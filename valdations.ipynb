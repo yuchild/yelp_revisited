{
 "cells": [
  {
   "cell_type": "markdown",
   "id": "32d6ec07-e16a-4602-8341-8712315395a8",
   "metadata": {},
   "source": [
    "### Yelp Dataset 10Mar2025 Validations or Proof of Concepts"
   ]
  },
  {
   "cell_type": "markdown",
   "id": "def4df74-665f-476e-8548-7bcb4c1a3d26",
   "metadata": {},
   "source": [
    "#### 1. Extrat Tar File"
   ]
  },
  {
   "cell_type": "code",
   "execution_count": 7,
   "id": "b1590e9a-f422-4371-84f2-d796295769f0",
   "metadata": {},
   "outputs": [],
   "source": [
    "# !pip3 install -r requirements.txt"
   ]
  },
  {
   "cell_type": "code",
   "execution_count": 4,
   "id": "9f90f223-dd68-43b8-85fc-2edaa13b3708",
   "metadata": {},
   "outputs": [
    {
     "name": "stdout",
     "output_type": "stream",
     "text": [
      "['Yelp Dataset Documentation & ToS copy.pdf', 'yelp_dataset.tar', 'Dataset_User_Agreement.pdf', 'yelp_academic_dataset_business.json', 'yelp_academic_dataset_checkin.json', 'yelp_academic_dataset_review.json', 'yelp_academic_dataset_tip.json', 'yelp_academic_dataset_user.json']\n"
     ]
    }
   ],
   "source": [
    "import tarfile\n",
    "import os\n",
    "\n",
    "# Define the path to the tar file and an extraction directory\n",
    "tar_path = '/media/oem/onetbsamdot/datasets/yelp_10Mar2025/Yelp-JSON/Yelp JSON/yelp_dataset.tar'\n",
    "extract_path = '/media/oem/onetbsamdot/datasets/yelp_10Mar2025/Yelp-JSON/Yelp JSON/'  # or another directory of your choice\n",
    "\n",
    "# Create the extraction directory if it doesn't exist\n",
    "os.makedirs(extract_path, exist_ok=True)\n",
    "\n",
    "# Open and extract the tar file\n",
    "with tarfile.open(tar_path, 'r') as tar:\n",
    "    tar.extractall(path=extract_path)\n",
    "\n",
    "# List the extracted files to verify\n",
    "print(os.listdir(extract_path))\n"
   ]
  },
  {
   "cell_type": "code",
   "execution_count": 8,
   "id": "1b147bc6-baf6-46a5-9fed-37031a9fc63c",
   "metadata": {
    "scrolled": true
   },
   "outputs": [
    {
     "name": "stderr",
     "output_type": "stream",
     "text": [
      "25/03/11 03:04:48 WARN Utils: Your hostname, oem resolves to a loopback address: 127.0.1.1; using 192.168.5.142 instead (on interface wlp9s0)\n",
      "25/03/11 03:04:48 WARN Utils: Set SPARK_LOCAL_IP if you need to bind to another address\n",
      "Setting default log level to \"WARN\".\n",
      "To adjust logging level use sc.setLogLevel(newLevel). For SparkR, use setLogLevel(newLevel).\n",
      "25/03/11 03:04:48 WARN NativeCodeLoader: Unable to load native-hadoop library for your platform... using builtin-java classes where applicable\n"
     ]
    },
    {
     "name": "stdout",
     "output_type": "stream",
     "text": [
      "Spark version: 3.5.5\n"
     ]
    },
    {
     "name": "stderr",
     "output_type": "stream",
     "text": [
      "25/03/11 03:05:02 WARN GarbageCollectionMetrics: To enable non-built-in garbage collector(s) List(G1 Concurrent GC), users should configure it(them) to spark.eventLog.gcMetrics.youngGenerationGarbageCollectors or spark.eventLog.gcMetrics.oldGenerationGarbageCollectors\n"
     ]
    }
   ],
   "source": [
    "# Check for spark\n",
    "from pyspark.sql import SparkSession\n",
    "spark = SparkSession.builder.getOrCreate()\n",
    "print(f'Spark version: {spark.version}')"
   ]
  },
  {
   "cell_type": "code",
   "execution_count": null,
   "id": "9ead1e4f-a186-4f30-99ae-0f6aeba8326e",
   "metadata": {},
   "outputs": [],
   "source": []
  },
  {
   "cell_type": "markdown",
   "id": "ffda3922-7c60-4c6e-bb8e-6265502c09c0",
   "metadata": {},
   "source": [
    "#### 2. Import JSON Tables"
   ]
  },
  {
   "cell_type": "code",
   "execution_count": null,
   "id": "e0b01762-4057-48a2-a8b8-4ec6f315a9e2",
   "metadata": {},
   "outputs": [],
   "source": [
    "import pandas as pd\n",
    "import os\n",
    "\n",
    "# Define file paths for specific JSON files\n",
    "business_file = os.path.join(extract_path, 'business.json')\n",
    "review_file = os.path.join(extract_path, 'review.json')\n",
    "\n",
    "# Load the JSON files into DataFrames\n",
    "business_df = pd.read_json(business_file, lines=True)\n",
    "review_df = pd.read_json(review_file, lines=True)\n",
    "\n",
    "# Display the first few rows of each DataFrame\n",
    "print(\"Business DataFrame:\")\n",
    "print(business_df.head())\n",
    "\n",
    "print(\"\\nReview DataFrame:\")\n",
    "print(review_df.head())\n"
   ]
  }
 ],
 "metadata": {
  "kernelspec": {
   "display_name": "Python (ylpenv)",
   "language": "python",
   "name": "ylpenv"
  },
  "language_info": {
   "codemirror_mode": {
    "name": "ipython",
    "version": 3
   },
   "file_extension": ".py",
   "mimetype": "text/x-python",
   "name": "python",
   "nbconvert_exporter": "python",
   "pygments_lexer": "ipython3",
   "version": "3.12.3"
  }
 },
 "nbformat": 4,
 "nbformat_minor": 5
}
