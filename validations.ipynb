{
 "cells": [
  {
   "cell_type": "markdown",
   "id": "32d6ec07-e16a-4602-8341-8712315395a8",
   "metadata": {},
   "source": [
    "### Yelp Dataset 10Mar2025 Validations or Proof of Concepts\n",
    "#### 1. Extrat Tar File"
   ]
  },
  {
   "cell_type": "code",
   "execution_count": 1,
   "id": "b1590e9a-f422-4371-84f2-d796295769f0",
   "metadata": {},
   "outputs": [],
   "source": [
    "# !pip3 install -r requirements.txt"
   ]
  },
  {
   "cell_type": "code",
   "execution_count": 2,
   "id": "3269aa26-1ee4-4d0a-a49f-5e92be4f78cb",
   "metadata": {},
   "outputs": [],
   "source": [
    "from src import modules as f\n",
    "%load_ext autoreload\n",
    "%autoreload 2"
   ]
  },
  {
   "cell_type": "code",
   "execution_count": 3,
   "id": "2bce5a9f-e0b0-4633-b2f7-bd08e1567e18",
   "metadata": {},
   "outputs": [
    {
     "name": "stdout",
     "output_type": "stream",
     "text": [
      "(200100, 4)\n"
     ]
    }
   ],
   "source": [
    "import pandas as pd\n",
    "\n",
    "df = pd.read_json('/media/oem/onetbsamdot/datasets/yelp_10Mar2025/Yelp-JSON/Yelp JSON/yelp_academic_dataset_photos.json', lines=True)\n",
    "print(df.shape)"
   ]
  },
  {
   "cell_type": "code",
   "execution_count": null,
   "id": "49838e73-10ed-4aac-a1e3-51b2553fecd0",
   "metadata": {},
   "outputs": [],
   "source": []
  },
  {
   "cell_type": "code",
   "execution_count": 5,
   "id": "50c816f3-721f-4fab-b1d1-26f7bc5484ba",
   "metadata": {},
   "outputs": [
    {
     "name": "stdout",
     "output_type": "stream",
     "text": [
      "Files in extraction directory: ['Yelp Dataset Documentation & ToS copy.pdf', 'yelp_dataset.tar', 'Dataset_User_Agreement.pdf', 'yelp_academic_dataset_business.json', 'yelp_academic_dataset_checkin.json', 'yelp_academic_dataset_review.json', 'yelp_academic_dataset_tip.json', 'yelp_academic_dataset_user.json', 'yelp_academic_dataset_photos.json']\n",
      "Converting /media/oem/onetbsamdot/datasets/yelp_10Mar2025/Yelp-JSON/Yelp JSON/yelp_academic_dataset_checkin.json to ./data/checkin.parquet...Converting /media/oem/onetbsamdot/datasets/yelp_10Mar2025/Yelp-JSON/Yelp JSON/yelp_academic_dataset_review.json to ./data/review.parquet...Converting /media/oem/onetbsamdot/datasets/yelp_10Mar2025/Yelp-JSON/Yelp JSON/yelp_academic_dataset_tip.json to ./data/tip.parquet...Converting /media/oem/onetbsamdot/datasets/yelp_10Mar2025/Yelp-JSON/Yelp JSON/yelp_academic_dataset_user.json to ./data/user.parquet...Converting /media/oem/onetbsamdot/datasets/yelp_10Mar2025/Yelp-JSON/Yelp JSON/yelp_academic_dataset_business.json to ./data/business.parquet...\n",
      "\n",
      "\n",
      "\n",
      "\n",
      "Saved ./data/checkin.parquet\n",
      "Converting /media/oem/onetbsamdot/datasets/yelp_10Mar2025/Yelp-JSON/Yelp JSON/yelp_academic_dataset_photos.json to ./data/photo.parquet...\n",
      "Saved ./data/photo.parquet\n",
      "Saved ./data/business.parquet\n",
      "Saved ./data/tip.parquet\n",
      "Saved ./data/user.parquet\n",
      "Saved ./data/review.parquet\n",
      "✅ All conversions completed!\n"
     ]
    }
   ],
   "source": [
    "# load for the first time to set up files\n",
    "f.json_2_parquet()"
   ]
  },
  {
   "cell_type": "code",
   "execution_count": null,
   "id": "1b147bc6-baf6-46a5-9fed-37031a9fc63c",
   "metadata": {},
   "outputs": [],
   "source": [
    "import os\n",
    "from pyspark.sql import SparkSession\n",
    "\n",
    "# Set the correct network IP if necessary\n",
    "os.environ[\"SPARK_LOCAL_IP\"] = \"192.168.5.29\"  # or \"192.168.5.29\" if explicitly needed\n",
    "\n",
    "# Build Spark session WITHOUT RAPIDS\n",
    "spark = SparkSession.builder \\\n",
    "    .appName(\"SparkNoGPU\") \\\n",
    "    .master(\"local[*]\") \\\n",
    "    .getOrCreate()\n",
    "\n",
    "# Set log level to reduce verbosity\n",
    "spark.sparkContext.setLogLevel(\"ERROR\")\n",
    "\n",
    "print(\"Spark session created!\")\n"
   ]
  },
  {
   "cell_type": "markdown",
   "id": "ffda3922-7c60-4c6e-bb8e-6265502c09c0",
   "metadata": {},
   "source": [
    "#### 2. Import JSON Tables"
   ]
  },
  {
   "cell_type": "code",
   "execution_count": null,
   "id": "7ce56855-9e94-4b0e-936a-c0928c327f22",
   "metadata": {},
   "outputs": [],
   "source": [
    "# Load each Parquet file into a Spark DataFrame\n",
    "business_df = spark.read.parquet(os.path.join(parquet_dir, 'business.parquet')).sample(False, 0.1, seed=42)\n",
    "# review_df   = spark.read.parquet(os.path.join(parquet_dir, 'review.parquet')).sample(False, 0.1, seed=42)\n",
    "# checkin_df  = spark.read.parquet(os.path.join(parquet_dir, 'checkin.parquet')).sample(False, 0.1, seed=42)\n",
    "# tip_df      = spark.read.parquet(os.path.join(parquet_dir, 'tip.parquet')).sample(False, 0.1, seed=42)\n",
    "# user_df     = spark.read.parquet(os.path.join(parquet_dir, 'user.parquet')).sample(False, 0.1, seed=42)\n",
    "\n",
    "# Show a sample from one DataFrame\n",
    "business_df.show(5)"
   ]
  },
  {
   "cell_type": "code",
   "execution_count": null,
   "id": "d0cc4fef-e3d2-40d8-b1b1-ce52b1d4eaef",
   "metadata": {},
   "outputs": [],
   "source": []
  },
  {
   "cell_type": "code",
   "execution_count": null,
   "id": "9a61ee0c-679f-4068-8e29-5bc68eca9b33",
   "metadata": {},
   "outputs": [],
   "source": []
  },
  {
   "cell_type": "code",
   "execution_count": null,
   "id": "c1a0ca82-30b6-41d9-996d-fb12cdfae8b0",
   "metadata": {},
   "outputs": [],
   "source": []
  },
  {
   "cell_type": "code",
   "execution_count": null,
   "id": "fb3a16e5-b3e8-4ca9-8a3b-a01a5e07dd26",
   "metadata": {},
   "outputs": [],
   "source": [
    "spark.stop()"
   ]
  },
  {
   "cell_type": "code",
   "execution_count": null,
   "id": "28e56d5f-93bf-46ab-928a-d946c0912f2e",
   "metadata": {},
   "outputs": [],
   "source": []
  }
 ],
 "metadata": {
  "kernelspec": {
   "display_name": "Python (ylpenv)",
   "language": "python",
   "name": "ylpenv"
  },
  "language_info": {
   "codemirror_mode": {
    "name": "ipython",
    "version": 3
   },
   "file_extension": ".py",
   "mimetype": "text/x-python",
   "name": "python",
   "nbconvert_exporter": "python",
   "pygments_lexer": "ipython3",
   "version": "3.12.3"
  }
 },
 "nbformat": 4,
 "nbformat_minor": 5
}
